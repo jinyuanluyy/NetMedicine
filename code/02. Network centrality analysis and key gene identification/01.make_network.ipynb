{
 "cells": [
  {
   "cell_type": "code",
   "execution_count": 14,
   "id": "f9953678-e307-40cc-8e88-45c22bd87364",
   "metadata": {},
   "outputs": [],
   "source": [
    "import pandas as pd\n",
    "import multiprocessing as mp\n",
    "import itertools\n",
    "import networkx as nx\n",
    "import sys\n",
    "import pickle\n",
    "import time  \n",
    "from tqdm import tqdm"
   ]
  },
  {
   "cell_type": "code",
   "execution_count": 15,
   "id": "9221efee-1363-4958-be62-2e8403666dba",
   "metadata": {},
   "outputs": [],
   "source": [
    "def mainp01(cores):\n",
    "    global global_string_G  \n",
    "    start_time = time.time()  \n",
    "\n",
    "    DIP_addr = \"Data/DIP/CPTAC_SIP_deg.txt\"\n",
    "    string_addr = \"Data/Human_network/Human_Interactome2022.txt\"\n",
    "\n",
    "    DIP_df = pd.read_csv(DIP_addr, sep='\\t')\n",
    "  \n",
    "\n",
    "    DIP_list = DIP_df['StringGene'].to_list()\n",
    "    \n",
    "\n",
    "    with open(string_addr) as network_f:\n",
    "        string_network_edges = [x.strip().split('\\t') for x in network_f.readlines()]\n",
    "\n",
    "    global_string_G = nx.Graph(string_network_edges)\n",
    "    \n",
    "    \n",
    "    TNBC_sub_structures = list(set(DIP_df['Bait'].to_list()))\n",
    "\n",
    "    sub_structure_result = dict()\n",
    "    pool = mp.Pool(processes=int(cores))\n",
    "    \n",
    "    for sub_structure in TNBC_sub_structures:\n",
    "        DIP_sub_list = DIP_df[DIP_df['Bait'] == sub_structure]['StringGene'].to_list()\n",
    "        DIP_pairs = list(itertools.product(DIP_sub_list, DIP_list))\n",
    "        \n",
    "        \n",
    "        DIP_pairs_filtered = [\n",
    "            pair for pair in DIP_pairs \n",
    "            if pair[0] in global_string_G.nodes and pair[1] in global_string_G.nodes\n",
    "        ]\n",
    "\n",
    "\n",
    "        SP_result = list(tqdm(pool.imap(process_pair, DIP_pairs_filtered), total=len(DIP_pairs_filtered)))\n",
    "\n",
    "        sub_structure_result[sub_structure] = SP_result\n",
    "    pool.close()\n",
    "    pool.join()\n",
    "    \n",
    "\n",
    "    all_edges = [edge for edges in sub_structure_result.values() for edge_list in edges for edge in edge_list if edge]\n",
    "\n",
    "    SIG_G = nx.Graph()\n",
    "    SIG_G.add_edges_from(all_edges)\n",
    "\n",
    "    final_nodes = set(DIP_list)\n",
    "    filtered_edges = [(u, v) for u, v in SIG_G.edges() if u in final_nodes and v in final_nodes]\n",
    "    SIG_G = nx.Graph()\n",
    "    SIG_G.add_edges_from(filtered_edges)\n",
    "\n",
    "    save_obj(SIG_G, \"Result/Network/CPTAC_SIP_All_Structure_All_Shortest_Paths_graph\")\n",
    "\n",
    "    end_time = time.time()  \n",
    "    total_time = end_time - start_time \n",
    "\n"
   ]
  },
  {
   "cell_type": "code",
   "execution_count": null,
   "id": "0b8d2723-2511-42f7-8dab-f589fc4525a4",
   "metadata": {},
   "outputs": [],
   "source": [
    "mainp01(cores=64)"
   ]
  },
  {
   "cell_type": "code",
   "execution_count": null,
   "id": "ea6e4bfb-315b-45b9-8221-684072b03c32",
   "metadata": {},
   "outputs": [],
   "source": [
    "SIG_G = load_obj(\"Result/Network/metadata_M13_All_Structure_All_Shortest_Paths_graph\")"
   ]
  },
  {
   "cell_type": "code",
   "execution_count": null,
   "id": "7a750b44-8a4a-4d43-adbc-1fa0750e0349",
   "metadata": {},
   "outputs": [],
   "source": []
  }
 ],
 "metadata": {
  "kernelspec": {
   "display_name": "Python 3 (ipykernel)",
   "language": "python",
   "name": "python3"
  },
  "language_info": {
   "codemirror_mode": {
    "name": "ipython",
    "version": 3
   },
   "file_extension": ".py",
   "mimetype": "text/x-python",
   "name": "python",
   "nbconvert_exporter": "python",
   "pygments_lexer": "ipython3",
   "version": "3.11.4"
  }
 },
 "nbformat": 4,
 "nbformat_minor": 5
}
